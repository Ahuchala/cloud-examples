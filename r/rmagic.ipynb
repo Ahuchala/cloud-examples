{
 "metadata": {
  "name": ""
 },
 "nbformat": 3,
 "nbformat_minor": 0,
 "worksheets": [
  {
   "cells": [
    {
     "cell_type": "heading",
     "level": 1,
     "metadata": {
      "slideshow": {
       "slide_type": "-"
      }
     },
     "source": [
      "Rmagic in IPython"
     ]
    },
    {
     "cell_type": "markdown",
     "metadata": {
      "slideshow": {
       "slide_type": "-"
      }
     },
     "source": [
      "**This files is part of the [examples collection](https://github.com/sagemath/cloud-examples/) of [the Sagemath Cloud](https://cloud.sagemath.com).**\n",
      "\n",
      "[Rmagic](http://nbviewer.ipython.org/urls/github.com/ipython/ipython/raw/master/examples/notebooks/R%2520Magics.ipynb)\n",
      "is an extension for [IPython](http://ipython.org).\n",
      "Check out the [full IPython notebook](http://nbviewer.ipython.org/urls/github.com/ipython/ipython/raw/master/examples/notebooks/R%2520Magics.ipynb) for additional details!\n",
      "It is based on [RPy2](http://rpy.sourceforge.net/rpy2.html) and allows to seamlessly talk to an underlying R session via an IPython notebook.\n",
      "\n",
      "To activate it, see the cell below. There are basically only a few core commands:\n",
      "\n",
      "* `%R` runs a line of R code, return values can be assigned via `var = %R ...`.\n",
      "* `%%R -i <input> -o <output> ...` runs the entire cell in R and `-i` and `-o` specify the variables for input and output.\n",
      "* `%Rpush ...` sends the data of a given variable to R.\n",
      "* `%Rpull ...` retrieves the variable (namespace is populated) and the data of a variable inside R.\n",
      "* `%Rget ...` is similar to `Rpull`, but only retrieves the actual data."
     ]
    },
    {
     "cell_type": "code",
     "collapsed": true,
     "input": [
      "%pylab inline\n",
      "%load_ext rmagic"
     ],
     "language": "python",
     "metadata": {},
     "outputs": [
      {
       "output_type": "stream",
       "stream": "stdout",
       "text": [
        "Populating the interactive namespace from numpy and matplotlib\n"
       ]
      }
     ],
     "prompt_number": 1
    },
    {
     "cell_type": "code",
     "collapsed": false,
     "input": [
      "import numpy as np"
     ],
     "language": "python",
     "metadata": {},
     "outputs": [],
     "prompt_number": 2
    },
    {
     "cell_type": "code",
     "collapsed": false,
     "input": [
      "%R print(seq(10))\n",
      "%R print(summary(factor(c(\"a\", \"b\", \"b\", \"a\", \"c\", \"a\", \"c\"))))"
     ],
     "language": "python",
     "metadata": {},
     "outputs": [
      {
       "metadata": {},
       "output_type": "display_data",
       "text": [
        " [1]  1  2  3  4  5  6  7  8  9 10\n"
       ]
      },
      {
       "metadata": {},
       "output_type": "display_data",
       "text": [
        "a b c \n",
        "3 2 2 \n"
       ]
      }
     ],
     "prompt_number": 3
    },
    {
     "cell_type": "code",
     "collapsed": false,
     "input": [
      "%%R\n",
      "v <- 5.5\n",
      "a <- seq(10) + v\n",
      "print(summary(a))\n",
      "print(sd(a))"
     ],
     "language": "python",
     "metadata": {},
     "outputs": [
      {
       "metadata": {},
       "output_type": "display_data",
       "text": [
        "   Min. 1st Qu.  Median    Mean 3rd Qu.    Max. \n",
        "   6.50    8.75   11.00   11.00   13.25   15.50 \n",
        "[1] 3.02765\n"
       ]
      }
     ],
     "prompt_number": 4
    },
    {
     "cell_type": "markdown",
     "metadata": {},
     "source": [
      "`a` only exists in R, hence the following error:"
     ]
    },
    {
     "cell_type": "code",
     "collapsed": false,
     "input": [
      "a"
     ],
     "language": "python",
     "metadata": {},
     "outputs": [
      {
       "ename": "NameError",
       "evalue": "name 'a' is not defined",
       "output_type": "pyerr",
       "traceback": [
        "\u001b[1;31m---------------------------------------------------------------------------\u001b[0m\n\u001b[1;31mNameError\u001b[0m                                 Traceback (most recent call last)",
        "\u001b[1;32m<ipython-input-5-60b725f10c9c>\u001b[0m in \u001b[0;36m<module>\u001b[1;34m()\u001b[0m\n\u001b[1;32m----> 1\u001b[1;33m \u001b[0ma\u001b[0m\u001b[1;33m\u001b[0m\u001b[0m\n\u001b[0m",
        "\u001b[1;31mNameError\u001b[0m: name 'a' is not defined"
       ]
      }
     ],
     "prompt_number": 5
    },
    {
     "cell_type": "markdown",
     "metadata": {},
     "source": [
      "`%Rget` pulls and converts the data into Python:"
     ]
    },
    {
     "cell_type": "code",
     "collapsed": false,
     "input": [
      "a = %Rget a\n",
      "\n",
      "a"
     ],
     "language": "python",
     "metadata": {},
     "outputs": [
      {
       "metadata": {},
       "output_type": "pyout",
       "prompt_number": 6,
       "text": [
        "array([  6.5,   7.5,   8.5,   9.5,  10.5,  11.5,  12.5,  13.5,  14.5,  15.5])"
       ]
      }
     ],
     "prompt_number": 6
    },
    {
     "cell_type": "code",
     "collapsed": false,
     "input": [
      "type(a)"
     ],
     "language": "python",
     "metadata": {},
     "outputs": [
      {
       "metadata": {},
       "output_type": "pyout",
       "prompt_number": 7,
       "text": [
        "numpy.ndarray"
       ]
      }
     ],
     "prompt_number": 7
    },
    {
     "cell_type": "markdown",
     "metadata": {},
     "source": [
      "`%Rpull` is similar, and defines the variable, too:"
     ]
    },
    {
     "cell_type": "code",
     "collapsed": false,
     "input": [
      "%Rpull v"
     ],
     "language": "python",
     "metadata": {},
     "outputs": [],
     "prompt_number": 8
    },
    {
     "cell_type": "code",
     "collapsed": false,
     "input": [
      "v"
     ],
     "language": "python",
     "metadata": {},
     "outputs": [
      {
       "metadata": {},
       "output_type": "pyout",
       "prompt_number": 9,
       "text": [
        "array([ 5.5])"
       ]
      }
     ],
     "prompt_number": 9
    },
    {
     "cell_type": "code",
     "collapsed": false,
     "input": [],
     "language": "python",
     "metadata": {},
     "outputs": [],
     "prompt_number": 9
    },
    {
     "cell_type": "markdown",
     "metadata": {},
     "source": [
      "`%%R` runs the given cell in R and `-o [variable]` \"outputs\" it to Python"
     ]
    },
    {
     "cell_type": "code",
     "collapsed": false,
     "input": [
      "%%R -o b\n",
      "b <- c(2,3,4,3,5,6,5,6,7,8)\n",
      "print(paste(length(a), \"==\", length(b), \"?\"))"
     ],
     "language": "python",
     "metadata": {},
     "outputs": [
      {
       "metadata": {},
       "output_type": "display_data",
       "text": [
        "[1] \"10 == 10 ?\"\n"
       ]
      }
     ],
     "prompt_number": 10
    },
    {
     "cell_type": "code",
     "collapsed": false,
     "input": [
      "print(b)"
     ],
     "language": "python",
     "metadata": {},
     "outputs": [
      {
       "output_type": "stream",
       "stream": "stdout",
       "text": [
        "[ 2.  3.  4.  3.  5.  6.  5.  6.  7.  8.]\n"
       ]
      }
     ],
     "prompt_number": 11
    },
    {
     "cell_type": "markdown",
     "metadata": {},
     "source": [
      "### Plots\n",
      "Basically, they are stright forward. Multiple simultaneous plots are displayed accordingly."
     ]
    },
    {
     "cell_type": "code",
     "collapsed": false,
     "input": [
      "%R plot(a, b, 'b-')"
     ],
     "language": "python",
     "metadata": {},
     "outputs": [
      {
       "metadata": {},
       "output_type": "display_data",
       "png": "[encoded data removed]"
      }
     ],
     "prompt_number": 12
    },
    {
     "cell_type": "code",
     "collapsed": false,
     "input": [
      "%%R -o lmod\n",
      "lmod <- lm(b ~ a)\n",
      "print(lmod)"
     ],
     "language": "python",
     "metadata": {},
     "outputs": [
      {
       "metadata": {},
       "output_type": "display_data",
       "text": [
        "\n",
        "Call:\n",
        "lm(formula = b ~ a)\n",
        "\n",
        "Coefficients:\n",
        "(Intercept)            a  \n",
        "       -1.7          0.6  \n",
        "\n"
       ]
      }
     ],
     "prompt_number": 13
    },
    {
     "cell_type": "markdown",
     "metadata": {},
     "source": [
      "Interested in the coefficients?\n",
      "\n",
      "Use R's slot accessor `$` via a call to R in `%R` to retrieve the coefficients as a NumPy array."
     ]
    },
    {
     "cell_type": "code",
     "collapsed": false,
     "input": [
      "coeffs = %R lmod$coefficients\n",
      "coeffs"
     ],
     "language": "python",
     "metadata": {},
     "outputs": [
      {
       "metadata": {},
       "output_type": "pyout",
       "prompt_number": 14,
       "text": [
        "array([-1.7,  0.6])"
       ]
      }
     ],
     "prompt_number": 14
    },
    {
     "cell_type": "code",
     "collapsed": false,
     "input": [
      "%R print(summary(lmod))"
     ],
     "language": "python",
     "metadata": {},
     "outputs": [
      {
       "metadata": {},
       "output_type": "display_data",
       "text": [
        "\n",
        "Call:\n",
        "lm(formula = b ~ a)\n",
        "\n",
        "Residuals:\n",
        "   Min     1Q Median     3Q    Max \n",
        " -1.00  -0.35   0.10   0.40   0.80 \n",
        "\n",
        "Coefficients:\n",
        "            Estimate Std. Error t value Pr(>|t|)    \n",
        "(Intercept) -1.70000    0.79162  -2.147    0.064 .  \n",
        "a            0.60000    0.06963   8.617 2.55e-05 ***\n",
        "---\n",
        "Signif. codes:  0 \u2018***\u2019 0.001 \u2018**\u2019 0.01 \u2018*\u2019 0.05 \u2018.\u2019 0.1 \u2018 \u2019 1 \n",
        "\n",
        "Residual standard error: 0.6325 on 8 degrees of freedom\n",
        "Multiple R-squared: 0.9027,\tAdjusted R-squared: 0.8906 \n",
        "F-statistic: 74.25 on 1 and 8 DF,  p-value: 2.549e-05 \n",
        "\n"
       ]
      }
     ],
     "prompt_number": 15
    },
    {
     "cell_type": "markdown",
     "metadata": {},
     "source": [
      "Plotting in a 2x2 grid via R's `par` command and setting the output canvas size to 800x600 pixels."
     ]
    },
    {
     "cell_type": "code",
     "collapsed": false,
     "input": [
      "%%R -w 800 -h 600\n",
      "par(mfrow=c(2,2))\n",
      "plot(lmod)"
     ],
     "language": "python",
     "metadata": {},
     "outputs": [
      {
       "metadata": {},
       "output_type": "display_data",
       "png": "[encoded data removed]"
      }
     ],
     "prompt_number": 16
    },
    {
     "cell_type": "code",
     "collapsed": false,
     "input": [],
     "language": "python",
     "metadata": {},
     "outputs": [],
     "prompt_number": 16
    },
    {
     "cell_type": "code",
     "collapsed": false,
     "input": [
      "%%R -o faithful\n",
      "library(datasets)\n",
      "print(summary(faithful))"
     ],
     "language": "python",
     "metadata": {},
     "outputs": [
      {
       "metadata": {},
       "output_type": "display_data",
       "text": [
        "   eruptions        waiting    \n",
        " Min.   :1.600   Min.   :43.0  \n",
        " 1st Qu.:2.163   1st Qu.:58.0  \n",
        " Median :4.000   Median :76.0  \n",
        " Mean   :3.488   Mean   :70.9  \n",
        " 3rd Qu.:4.454   3rd Qu.:82.0  \n",
        " Max.   :5.100   Max.   :96.0  \n"
       ]
      }
     ],
     "prompt_number": 17
    },
    {
     "cell_type": "code",
     "collapsed": false,
     "input": [
      "%%R\n",
      "library(lattice)\n",
      "print(\n",
      "    wireframe(volcano,\n",
      "              shade = TRUE,\n",
      "              zlab = \"\",\n",
      "              aspect = c(61.0/87, 0.5),\n",
      "              light_source = c(10,0,10)))"
     ],
     "language": "python",
     "metadata": {},
     "outputs": [],
     "prompt_number": 18
    },
    {
     "cell_type": "code",
     "collapsed": false,
     "input": [],
     "language": "python",
     "metadata": {},
     "outputs": [],
     "prompt_number": "*"
    },
    {
     "cell_type": "markdown",
     "metadata": {},
     "source": [
      "### Advanced Example: PCA"
     ]
    },
    {
     "cell_type": "code",
     "collapsed": false,
     "input": [
      "%%R -o pca_usarrest\n",
      "library(\"stats\")\n",
      "pca_usarrest <- princomp(USArrests, cor=TRUE)\n",
      "print(summary(pca_usarrest))"
     ],
     "language": "python",
     "metadata": {},
     "outputs": [],
     "prompt_number": "*"
    },
    {
     "cell_type": "code",
     "collapsed": false,
     "input": [
      "%%R\n",
      "print(summary(pca_usarrest))"
     ],
     "language": "python",
     "metadata": {},
     "outputs": [],
     "prompt_number": "*"
    },
    {
     "cell_type": "code",
     "collapsed": false,
     "input": [
      "%%R\n",
      "biplot(pca_usarrest)"
     ],
     "language": "python",
     "metadata": {},
     "outputs": [],
     "prompt_number": "*"
    },
    {
     "cell_type": "markdown",
     "metadata": {},
     "source": [
      "The `pca_usarrest` variable references a datastructure from R. Applying R functions via RPy2 directly is no problem."
     ]
    },
    {
     "cell_type": "code",
     "collapsed": false,
     "input": [
      "from rpy2 import robjects as ro\n",
      "print(ro.r.summary(pca_usarrest))"
     ],
     "language": "python",
     "metadata": {},
     "outputs": [],
     "prompt_number": "*"
    },
    {
     "cell_type": "code",
     "collapsed": false,
     "input": [],
     "language": "python",
     "metadata": {},
     "outputs": [],
     "prompt_number": "*"
    },
    {
     "cell_type": "code",
     "collapsed": false,
     "input": [
      "%R print(help(sum))"
     ],
     "language": "python",
     "metadata": {},
     "outputs": [],
     "prompt_number": "*"
    },
    {
     "cell_type": "code",
     "collapsed": false,
     "input": [],
     "language": "python",
     "metadata": {},
     "outputs": [],
     "prompt_number": "*"
    }
   ],
   "metadata": {}
  }
 ]
}